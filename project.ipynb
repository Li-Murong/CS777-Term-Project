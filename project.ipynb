{
 "cells": [
  {
   "cell_type": "markdown",
   "source": [
    "# Code Sample"
   ],
   "metadata": {
    "collapsed": false
   },
   "id": "8d249c7015b043ce"
  },
  {
   "cell_type": "code",
   "outputs": [],
   "source": [
    "import sys\n",
    "from pyspark.sql import SparkSession\n",
    "from pyspark.sql.functions import hour, col\n",
    "from pyspark.ml.feature import VectorAssembler\n",
    "from pyspark.ml.clustering import KMeans\n",
    "from pyspark.ml.evaluation import ClusteringEvaluator\n",
    "from pyspark.sql.types import IntegerType"
   ],
   "metadata": {
    "collapsed": false,
    "ExecuteTime": {
     "end_time": "2024-04-25T20:14:23.624421Z",
     "start_time": "2024-04-25T20:14:23.198419Z"
    }
   },
   "id": "78a805a9eac2bd91",
   "execution_count": 1
  },
  {
   "cell_type": "markdown",
   "source": [
    "## Initialize Spark Session"
   ],
   "metadata": {
    "collapsed": false
   },
   "id": "5165c4bc363cf3e9"
  },
  {
   "cell_type": "code",
   "outputs": [
    {
     "name": "stderr",
     "output_type": "stream",
     "text": [
      "Setting default log level to \"WARN\".\n",
      "To adjust logging level use sc.setLogLevel(newLevel). For SparkR, use setLogLevel(newLevel).\n",
      "24/04/25 16:14:24 WARN NativeCodeLoader: Unable to load native-hadoop library for your platform... using builtin-java classes where applicable\n"
     ]
    }
   ],
   "source": [
    "# Initialize Spark Session\n",
    "spark = SparkSession.builder.appName(\"TaxiDataAnalysis\").getOrCreate()\n",
    "spark.sparkContext.setLogLevel('ERROR')\n"
   ],
   "metadata": {
    "collapsed": false,
    "ExecuteTime": {
     "end_time": "2024-04-25T20:14:25.423637Z",
     "start_time": "2024-04-25T20:14:23.634237Z"
    }
   },
   "id": "7077d31a59ef787f",
   "execution_count": 2
  },
  {
   "cell_type": "markdown",
   "source": [
    "## Set I/O"
   ],
   "metadata": {
    "collapsed": false
   },
   "id": "faa265b666056f64"
  },
  {
   "cell_type": "code",
   "outputs": [
    {
     "name": "stderr",
     "output_type": "stream",
     "text": [
      "[Stage 1:=========================================>               (16 + 6) / 22]\r"
     ]
    },
    {
     "name": "stdout",
     "output_type": "stream",
     "text": [
      "StructType([StructField('medallion', StringType(), True), StructField('hack_license', StringType(), True), StructField('pickup_datetime', TimestampType(), True), StructField('dropoff_datetime', TimestampType(), True), StructField('trip_time_in_secs', IntegerType(), True), StructField('trip_distance', DoubleType(), True), StructField('pickup_longitude', DoubleType(), True), StructField('pickup_latitude', DoubleType(), True), StructField('dropoff_longitude', DoubleType(), True), StructField('dropoff_latitude', DoubleType(), True), StructField('payment_type', StringType(), True), StructField('fare_amount', DoubleType(), True), StructField('surcharge', DoubleType(), True), StructField('mta_tax', DoubleType(), True), StructField('tip_amount', DoubleType(), True), StructField('tolls_amount', DoubleType(), True), StructField('total_amount', DoubleType(), True)])\n"
     ]
    },
    {
     "name": "stderr",
     "output_type": "stream",
     "text": [
      "                                                                                \r"
     ]
    }
   ],
   "source": [
    "# Set I/O\n",
    "local_test = True\n",
    "if local_test:\n",
    "    df = spark.read.csv('sample/sample.csv',\n",
    "                        sep=',', header=True, inferSchema=True)  # .toDF(*header)\n",
    "    output_folder_path = 'output'\n",
    "else:\n",
    "    input_file_path = sys.argv[1]\n",
    "    df = spark.read.csv(input_file_path, sep=',', header=True, inferSchema=True)\n",
    "    output_folder_path = sys.argv[2]\n",
    "\n",
    "print(df.schema)\n"
   ],
   "metadata": {
    "collapsed": false,
    "ExecuteTime": {
     "end_time": "2024-04-25T20:14:40.590043Z",
     "start_time": "2024-04-25T20:14:25.424432Z"
    }
   },
   "id": "fff281ea3b544057",
   "execution_count": 3
  },
  {
   "cell_type": "markdown",
   "source": [
    "## Data cleaning"
   ],
   "metadata": {
    "collapsed": false
   },
   "id": "5cdb4704411bf5e2"
  },
  {
   "cell_type": "code",
   "outputs": [
    {
     "name": "stdout",
     "output_type": "stream",
     "text": [
      "+--------------------+--------------------+-------------------+-------------------+-----------------+-------------+----------------+---------------+-----------------+----------------+------------+-----------+---------+-------+----------+------------+------------+\n",
      "|           medallion|        hack_license|    pickup_datetime|   dropoff_datetime|trip_time_in_secs|trip_distance|pickup_longitude|pickup_latitude|dropoff_longitude|dropoff_latitude|payment_type|fare_amount|surcharge|mta_tax|tip_amount|tolls_amount|total_amount|\n",
      "+--------------------+--------------------+-------------------+-------------------+-----------------+-------------+----------------+---------------+-----------------+----------------+------------+-----------+---------+-------+----------+------------+------------+\n",
      "|20A85CDF09AC1BE3A...|6AC3258720B5F6600...|2013-06-01 00:00:00|2013-06-01 00:06:00|              360|         0.99|      -74.008789|      40.704243|       -74.017204|       40.708412|         CRD|        6.0|      0.5|    0.5|       2.0|         0.0|         9.0|\n",
      "|8366A0E03E6533B05...|14995A9A7160E2B86...|2013-06-01 00:00:00|2013-06-01 00:22:00|             1320|          5.8|      -73.971024|       40.68959|       -73.986595|       40.756058|         CSH|       20.0|      0.5|    0.5|       0.0|         0.0|        21.0|\n",
      "|BA5E4104F2476174E...|36C95EB179FC8AF9D...|2013-06-01 00:00:00|2013-06-01 00:22:00|             1320|         4.56|      -74.005119|      40.719116|       -73.951012|       40.692936|         CRD|       18.5|      0.5|    0.5|      4.75|         0.0|       24.25|\n",
      "|FB1C103E10A75D888...|9B41014E87C4E829A...|2013-06-01 00:00:00|2013-06-01 00:04:00|              240|          1.2|      -73.957451|      40.718102|       -73.939445|       40.726116|         CSH|        6.0|      0.5|    0.5|       0.0|         0.0|         7.0|\n",
      "|5F4AA9B20916345AC...|34D555545B8C4C4D6...|2013-06-01 00:00:00|2013-06-01 00:06:00|              360|         0.82|      -73.976555|      40.759212|       -73.967171|       40.756557|         CSH|        6.5|      0.5|    0.5|       0.0|         0.0|         7.5|\n",
      "+--------------------+--------------------+-------------------+-------------------+-----------------+-------------+----------------+---------------+-----------------+----------------+------------+-----------+---------+-------+----------+------------+------------+\n",
      "only showing top 5 rows\n",
      "\n",
      "None\n",
      "*** Filter finished ***\n"
     ]
    }
   ],
   "source": [
    "# Data cleaning\n",
    "df_filtered = df.filter((col('fare_amount') > 0) &\n",
    "                        (col('trip_distance') > 0) &\n",
    "                        (col('trip_time_in_secs') > 0))\n",
    "\n",
    "# Filter out trips where longitude or latitude is 0\n",
    "df = df_filtered.filter((col('pickup_longitude') != 0) &\n",
    "                        (col('pickup_latitude') != 0) &\n",
    "                        (col('dropoff_longitude') != 0) &\n",
    "                        (col('dropoff_latitude') != 0))\n",
    "\n",
    "# Filter out trips that happens at least around New York State\n",
    "nyc_latitude_bounds = (39, 42)\n",
    "nyc_longitude_bounds = (-76, -72)\n",
    "\n",
    "df = df.filter(\n",
    "    (col('pickup_longitude') >= nyc_longitude_bounds[0]) & (col('pickup_longitude') <= nyc_longitude_bounds[1]) &\n",
    "    (col('pickup_latitude') >= nyc_latitude_bounds[0]) & (col('pickup_latitude') <= nyc_latitude_bounds[1]) &\n",
    "    (col('dropoff_longitude') >= nyc_longitude_bounds[0]) & (col('dropoff_longitude') <= nyc_longitude_bounds[1]) &\n",
    "    (col('dropoff_latitude') >= nyc_latitude_bounds[0]) & (col('dropoff_latitude') <= nyc_latitude_bounds[1])\n",
    ")\n",
    "print(df.show(5))\n",
    "print(\"*** Filter finished ***\")"
   ],
   "metadata": {
    "collapsed": false,
    "ExecuteTime": {
     "end_time": "2024-04-25T20:14:40.892464Z",
     "start_time": "2024-04-25T20:14:40.591274Z"
    }
   },
   "id": "b81b31781e0b03e7",
   "execution_count": 4
  },
  {
   "cell_type": "markdown",
   "source": [],
   "metadata": {
    "collapsed": false
   },
   "id": "4325c489d3299c58"
  },
  {
   "cell_type": "markdown",
   "source": [
    "## Model"
   ],
   "metadata": {
    "collapsed": false
   },
   "id": "b51a2da1501db2b2"
  },
  {
   "cell_type": "code",
   "outputs": [
    {
     "name": "stdout",
     "output_type": "stream",
     "text": [
      "*** Time Slot Added ***\n"
     ]
    },
    {
     "name": "stderr",
     "output_type": "stream",
     "text": [
      "                                                                                \r"
     ]
    },
    {
     "name": "stdout",
     "output_type": "stream",
     "text": [
      "Time Slot 0: K = 7 and the silhouette = 0.5064992199093005\n",
      "Time Slot 0: K = 8 and the silhouette = 0.545110305875861\n",
      "Time Slot 0: K = 9 and the silhouette = 0.5201905050131413\n",
      "Time Slot 0: K = 10 and the silhouette = 0.5583138945494259\n",
      "Time Slot 0: K = 11 and the silhouette = 0.5404954248364835\n",
      "Time Slot 0: K = 12 and the silhouette = 0.5539472850845616\n"
     ]
    },
    {
     "name": "stderr",
     "output_type": "stream",
     "text": [
      "                                                                                \r"
     ]
    },
    {
     "name": "stdout",
     "output_type": "stream",
     "text": [
      "Time Slot 0: K = 13 and the silhouette = 0.5964565257829996\n",
      "Time Slot 0: K = 14 and the silhouette = 0.5497093541377305\n"
     ]
    },
    {
     "name": "stderr",
     "output_type": "stream",
     "text": [
      "                                                                                \r"
     ]
    },
    {
     "name": "stdout",
     "output_type": "stream",
     "text": [
      "Time Slot 0: K = 15 and the silhouette = 0.5310592292533893\n",
      "Time Slot 0: K = 16 and the silhouette = 0.5595477249288543\n"
     ]
    },
    {
     "name": "stderr",
     "output_type": "stream",
     "text": [
      "                                                                                \r"
     ]
    },
    {
     "name": "stdout",
     "output_type": "stream",
     "text": [
      "Time Slot 0: K = 17 and the silhouette = 0.5836019155143297\n"
     ]
    },
    {
     "name": "stderr",
     "output_type": "stream",
     "text": [
      "                                                                                \r"
     ]
    },
    {
     "name": "stdout",
     "output_type": "stream",
     "text": [
      "Time Slot 0: K = 18 and the silhouette = 0.5820227259053611\n"
     ]
    },
    {
     "name": "stderr",
     "output_type": "stream",
     "text": [
      "                                                                                \r"
     ]
    },
    {
     "name": "stdout",
     "output_type": "stream",
     "text": [
      "Time Slot 0: K = 19 and the silhouette = 0.556886959568952\n"
     ]
    },
    {
     "name": "stderr",
     "output_type": "stream",
     "text": [
      "                                                                                \r"
     ]
    },
    {
     "name": "stdout",
     "output_type": "stream",
     "text": [
      "Time Slot 0: K = 20 and the silhouette = 0.5622697481657748\n",
      "*** The Best K is 13 for Time Slot 0 ***\n",
      "*** Cluster 0 Statistics for Time SLot 0 Calculated***\n",
      "*** Cluster 1 Statistics for Time SLot 0 Calculated***\n",
      "*** Cluster 2 Statistics for Time SLot 0 Calculated***\n",
      "*** Cluster 3 Statistics for Time SLot 0 Calculated***\n",
      "*** Cluster 4 Statistics for Time SLot 0 Calculated***\n",
      "*** Cluster 5 Statistics for Time SLot 0 Calculated***\n",
      "*** Cluster 6 Statistics for Time SLot 0 Calculated***\n",
      "*** Cluster 7 Statistics for Time SLot 0 Calculated***\n",
      "*** Cluster 8 Statistics for Time SLot 0 Calculated***\n",
      "*** Cluster 9 Statistics for Time SLot 0 Calculated***\n",
      "*** Cluster 10 Statistics for Time SLot 0 Calculated***\n",
      "*** Cluster 11 Statistics for Time SLot 0 Calculated***\n",
      "*** Cluster 12 Statistics for Time SLot 0 Calculated***\n"
     ]
    },
    {
     "name": "stderr",
     "output_type": "stream",
     "text": [
      "                                                                                \r"
     ]
    },
    {
     "name": "stdout",
     "output_type": "stream",
     "text": [
      "Time Slot 1: K = 7 and the silhouette = 0.5458526787055832\n",
      "Time Slot 1: K = 8 and the silhouette = 0.5267279486739135\n",
      "Time Slot 1: K = 9 and the silhouette = 0.5700956036726145\n",
      "Time Slot 1: K = 10 and the silhouette = 0.5609225201993941\n",
      "Time Slot 1: K = 11 and the silhouette = 0.5631050062071224\n",
      "Time Slot 1: K = 12 and the silhouette = 0.5583691489983433\n",
      "Time Slot 1: K = 13 and the silhouette = 0.533829527132829\n",
      "Time Slot 1: K = 14 and the silhouette = 0.5860250614006768\n",
      "Time Slot 1: K = 15 and the silhouette = 0.5912952363780066\n",
      "Time Slot 1: K = 16 and the silhouette = 0.5848407538603719\n",
      "Time Slot 1: K = 17 and the silhouette = 0.6139256829996882\n",
      "Time Slot 1: K = 18 and the silhouette = 0.6268941767779492\n",
      "Time Slot 1: K = 19 and the silhouette = 0.5665888312858921\n",
      "Time Slot 1: K = 20 and the silhouette = 0.5568346308006605\n",
      "*** The Best K is 18 for Time Slot 1 ***\n",
      "*** Cluster 0 Statistics for Time SLot 1 Calculated***\n",
      "*** Cluster 1 Statistics for Time SLot 1 Calculated***\n",
      "*** Cluster 2 Statistics for Time SLot 1 Calculated***\n",
      "*** Cluster 3 Statistics for Time SLot 1 Calculated***\n",
      "*** Cluster 4 Statistics for Time SLot 1 Calculated***\n",
      "*** Cluster 5 Statistics for Time SLot 1 Calculated***\n",
      "*** Cluster 6 Statistics for Time SLot 1 Calculated***\n",
      "*** Cluster 7 Statistics for Time SLot 1 Calculated***\n",
      "*** Cluster 8 Statistics for Time SLot 1 Calculated***\n",
      "*** Cluster 9 Statistics for Time SLot 1 Calculated***\n",
      "*** Cluster 10 Statistics for Time SLot 1 Calculated***\n",
      "*** Cluster 11 Statistics for Time SLot 1 Calculated***\n",
      "*** Cluster 12 Statistics for Time SLot 1 Calculated***\n",
      "*** Cluster 13 Statistics for Time SLot 1 Calculated***\n",
      "*** Cluster 14 Statistics for Time SLot 1 Calculated***\n",
      "*** Cluster 15 Statistics for Time SLot 1 Calculated***\n",
      "*** Cluster 16 Statistics for Time SLot 1 Calculated***\n",
      "*** Cluster 17 Statistics for Time SLot 1 Calculated***\n"
     ]
    },
    {
     "name": "stderr",
     "output_type": "stream",
     "text": [
      "                                                                                \r"
     ]
    },
    {
     "name": "stdout",
     "output_type": "stream",
     "text": [
      "Time Slot 2: K = 7 and the silhouette = 0.5139345275149714\n",
      "Time Slot 2: K = 8 and the silhouette = 0.5153784122507269\n",
      "Time Slot 2: K = 9 and the silhouette = 0.5065896702773712\n",
      "Time Slot 2: K = 10 and the silhouette = 0.5519785666341938\n",
      "Time Slot 2: K = 11 and the silhouette = 0.542119915762901\n",
      "Time Slot 2: K = 12 and the silhouette = 0.5372458929807005\n",
      "Time Slot 2: K = 13 and the silhouette = 0.5748122064784568\n",
      "Time Slot 2: K = 14 and the silhouette = 0.59404356340654\n",
      "Time Slot 2: K = 15 and the silhouette = 0.6034671676712564\n",
      "Time Slot 2: K = 16 and the silhouette = 0.6047050632280873\n",
      "Time Slot 2: K = 17 and the silhouette = 0.6096987063283912\n",
      "Time Slot 2: K = 18 and the silhouette = 0.5532469079604935\n",
      "Time Slot 2: K = 19 and the silhouette = 0.5481129313352429\n",
      "Time Slot 2: K = 20 and the silhouette = 0.5708027582001872\n",
      "*** The Best K is 17 for Time Slot 2 ***\n",
      "*** Cluster 0 Statistics for Time SLot 2 Calculated***\n",
      "*** Cluster 1 Statistics for Time SLot 2 Calculated***\n",
      "*** Cluster 2 Statistics for Time SLot 2 Calculated***\n",
      "*** Cluster 3 Statistics for Time SLot 2 Calculated***\n",
      "*** Cluster 4 Statistics for Time SLot 2 Calculated***\n",
      "*** Cluster 5 Statistics for Time SLot 2 Calculated***\n",
      "*** Cluster 6 Statistics for Time SLot 2 Calculated***\n",
      "*** Cluster 7 Statistics for Time SLot 2 Calculated***\n",
      "*** Cluster 8 Statistics for Time SLot 2 Calculated***\n",
      "*** Cluster 9 Statistics for Time SLot 2 Calculated***\n",
      "*** Cluster 10 Statistics for Time SLot 2 Calculated***\n",
      "*** Cluster 11 Statistics for Time SLot 2 Calculated***\n",
      "*** Cluster 12 Statistics for Time SLot 2 Calculated***\n",
      "*** Cluster 13 Statistics for Time SLot 2 Calculated***\n",
      "*** Cluster 14 Statistics for Time SLot 2 Calculated***\n",
      "*** Cluster 15 Statistics for Time SLot 2 Calculated***\n",
      "*** Cluster 16 Statistics for Time SLot 2 Calculated***\n"
     ]
    },
    {
     "name": "stderr",
     "output_type": "stream",
     "text": [
      "                                                                                \r"
     ]
    },
    {
     "name": "stdout",
     "output_type": "stream",
     "text": [
      "Time Slot 3: K = 7 and the silhouette = 0.5328604394325797\n",
      "Time Slot 3: K = 8 and the silhouette = 0.5007148128417791\n",
      "Time Slot 3: K = 9 and the silhouette = 0.5103206325075648\n",
      "Time Slot 3: K = 10 and the silhouette = 0.5491638727877679\n",
      "Time Slot 3: K = 11 and the silhouette = 0.532485637807516\n",
      "Time Slot 3: K = 12 and the silhouette = 0.5504990383949102\n",
      "Time Slot 3: K = 13 and the silhouette = 0.569262577419168\n",
      "Time Slot 3: K = 14 and the silhouette = 0.5686640041070887\n",
      "Time Slot 3: K = 15 and the silhouette = 0.5888833647120961\n",
      "Time Slot 3: K = 16 and the silhouette = 0.5587761799984144\n",
      "Time Slot 3: K = 17 and the silhouette = 0.5776721568128586\n"
     ]
    },
    {
     "name": "stderr",
     "output_type": "stream",
     "text": [
      "                                                                                \r"
     ]
    },
    {
     "name": "stdout",
     "output_type": "stream",
     "text": [
      "Time Slot 3: K = 18 and the silhouette = 0.5481685655723607\n"
     ]
    },
    {
     "name": "stderr",
     "output_type": "stream",
     "text": [
      "                                                                                \r"
     ]
    },
    {
     "name": "stdout",
     "output_type": "stream",
     "text": [
      "Time Slot 3: K = 19 and the silhouette = 0.589946741353141\n"
     ]
    },
    {
     "name": "stderr",
     "output_type": "stream",
     "text": [
      "                                                                                \r"
     ]
    },
    {
     "name": "stdout",
     "output_type": "stream",
     "text": [
      "Time Slot 3: K = 20 and the silhouette = 0.5650720439934582\n",
      "*** The Best K is 19 for Time Slot 3 ***\n",
      "*** Cluster 0 Statistics for Time SLot 3 Calculated***\n",
      "*** Cluster 1 Statistics for Time SLot 3 Calculated***\n",
      "*** Cluster 2 Statistics for Time SLot 3 Calculated***\n",
      "*** Cluster 3 Statistics for Time SLot 3 Calculated***\n",
      "*** Cluster 4 Statistics for Time SLot 3 Calculated***\n",
      "*** Cluster 5 Statistics for Time SLot 3 Calculated***\n",
      "*** Cluster 6 Statistics for Time SLot 3 Calculated***\n",
      "*** Cluster 7 Statistics for Time SLot 3 Calculated***\n",
      "*** Cluster 8 Statistics for Time SLot 3 Calculated***\n",
      "*** Cluster 9 Statistics for Time SLot 3 Calculated***\n",
      "*** Cluster 10 Statistics for Time SLot 3 Calculated***\n",
      "*** Cluster 11 Statistics for Time SLot 3 Calculated***\n",
      "*** Cluster 12 Statistics for Time SLot 3 Calculated***\n",
      "*** Cluster 13 Statistics for Time SLot 3 Calculated***\n",
      "*** Cluster 14 Statistics for Time SLot 3 Calculated***\n",
      "*** Cluster 15 Statistics for Time SLot 3 Calculated***\n",
      "*** Cluster 16 Statistics for Time SLot 3 Calculated***\n",
      "*** Cluster 17 Statistics for Time SLot 3 Calculated***\n",
      "*** Cluster 18 Statistics for Time SLot 3 Calculated***\n"
     ]
    },
    {
     "name": "stderr",
     "output_type": "stream",
     "text": [
      "                                                                                \r"
     ]
    },
    {
     "name": "stdout",
     "output_type": "stream",
     "text": [
      "Time Slot 4: K = 7 and the silhouette = 0.5012703551997734\n",
      "Time Slot 4: K = 8 and the silhouette = 0.4610078355323348\n",
      "Time Slot 4: K = 9 and the silhouette = 0.49055002828868954\n",
      "Time Slot 4: K = 10 and the silhouette = 0.503613724556238\n",
      "Time Slot 4: K = 11 and the silhouette = 0.5009757891562752\n"
     ]
    },
    {
     "name": "stderr",
     "output_type": "stream",
     "text": [
      "                                                                                \r"
     ]
    },
    {
     "name": "stdout",
     "output_type": "stream",
     "text": [
      "Time Slot 4: K = 12 and the silhouette = 0.5087831753838159\n",
      "Time Slot 4: K = 13 and the silhouette = 0.5060504122908335\n"
     ]
    },
    {
     "name": "stderr",
     "output_type": "stream",
     "text": [
      "                                                                                \r"
     ]
    },
    {
     "name": "stdout",
     "output_type": "stream",
     "text": [
      "Time Slot 4: K = 14 and the silhouette = 0.5216759837638817\n"
     ]
    },
    {
     "name": "stderr",
     "output_type": "stream",
     "text": [
      "                                                                                \r"
     ]
    },
    {
     "name": "stdout",
     "output_type": "stream",
     "text": [
      "Time Slot 4: K = 15 and the silhouette = 0.5141395489019629\n"
     ]
    },
    {
     "name": "stderr",
     "output_type": "stream",
     "text": [
      "                                                                                \r"
     ]
    },
    {
     "name": "stdout",
     "output_type": "stream",
     "text": [
      "Time Slot 4: K = 16 and the silhouette = 0.557296336975174\n"
     ]
    },
    {
     "name": "stderr",
     "output_type": "stream",
     "text": [
      "                                                                                \r"
     ]
    },
    {
     "name": "stdout",
     "output_type": "stream",
     "text": [
      "Time Slot 4: K = 17 and the silhouette = 0.5270458332658845\n"
     ]
    },
    {
     "name": "stderr",
     "output_type": "stream",
     "text": [
      "                                                                                \r"
     ]
    },
    {
     "name": "stdout",
     "output_type": "stream",
     "text": [
      "Time Slot 4: K = 18 and the silhouette = 0.5007219588083306\n"
     ]
    },
    {
     "name": "stderr",
     "output_type": "stream",
     "text": [
      "                                                                                \r"
     ]
    },
    {
     "name": "stdout",
     "output_type": "stream",
     "text": [
      "Time Slot 4: K = 19 and the silhouette = 0.5298837108184241\n"
     ]
    },
    {
     "name": "stderr",
     "output_type": "stream",
     "text": [
      "                                                                                \r"
     ]
    },
    {
     "name": "stdout",
     "output_type": "stream",
     "text": [
      "Time Slot 4: K = 20 and the silhouette = 0.5587280337949879\n",
      "*** The Best K is 20 for Time Slot 4 ***\n",
      "*** Cluster 0 Statistics for Time SLot 4 Calculated***\n",
      "*** Cluster 1 Statistics for Time SLot 4 Calculated***\n",
      "*** Cluster 2 Statistics for Time SLot 4 Calculated***\n",
      "*** Cluster 3 Statistics for Time SLot 4 Calculated***\n",
      "*** Cluster 4 Statistics for Time SLot 4 Calculated***\n",
      "*** Cluster 5 Statistics for Time SLot 4 Calculated***\n",
      "*** Cluster 6 Statistics for Time SLot 4 Calculated***\n",
      "*** Cluster 7 Statistics for Time SLot 4 Calculated***\n",
      "*** Cluster 8 Statistics for Time SLot 4 Calculated***\n",
      "*** Cluster 9 Statistics for Time SLot 4 Calculated***\n",
      "*** Cluster 10 Statistics for Time SLot 4 Calculated***\n",
      "*** Cluster 11 Statistics for Time SLot 4 Calculated***\n",
      "*** Cluster 12 Statistics for Time SLot 4 Calculated***\n",
      "*** Cluster 13 Statistics for Time SLot 4 Calculated***\n",
      "*** Cluster 14 Statistics for Time SLot 4 Calculated***\n",
      "*** Cluster 15 Statistics for Time SLot 4 Calculated***\n",
      "*** Cluster 16 Statistics for Time SLot 4 Calculated***\n",
      "*** Cluster 17 Statistics for Time SLot 4 Calculated***\n",
      "*** Cluster 18 Statistics for Time SLot 4 Calculated***\n",
      "*** Cluster 19 Statistics for Time SLot 4 Calculated***\n"
     ]
    },
    {
     "name": "stderr",
     "output_type": "stream",
     "text": [
      "                                                                                \r"
     ]
    },
    {
     "name": "stdout",
     "output_type": "stream",
     "text": [
      "Time Slot 5: K = 7 and the silhouette = 0.5268405654205215\n",
      "Time Slot 5: K = 8 and the silhouette = 0.5219403183551019\n",
      "Time Slot 5: K = 9 and the silhouette = 0.5301560010164038\n",
      "Time Slot 5: K = 10 and the silhouette = 0.4932768960351441\n"
     ]
    },
    {
     "name": "stderr",
     "output_type": "stream",
     "text": [
      "                                                                                \r"
     ]
    },
    {
     "name": "stdout",
     "output_type": "stream",
     "text": [
      "Time Slot 5: K = 11 and the silhouette = 0.49544541111297064\n"
     ]
    },
    {
     "name": "stderr",
     "output_type": "stream",
     "text": [
      "                                                                                \r"
     ]
    },
    {
     "name": "stdout",
     "output_type": "stream",
     "text": [
      "Time Slot 5: K = 12 and the silhouette = 0.5245082581261683\n"
     ]
    },
    {
     "name": "stderr",
     "output_type": "stream",
     "text": [
      "                                                                                \r"
     ]
    },
    {
     "name": "stdout",
     "output_type": "stream",
     "text": [
      "Time Slot 5: K = 13 and the silhouette = 0.5284685843406238\n"
     ]
    },
    {
     "name": "stderr",
     "output_type": "stream",
     "text": [
      "                                                                                \r"
     ]
    },
    {
     "name": "stdout",
     "output_type": "stream",
     "text": [
      "Time Slot 5: K = 14 and the silhouette = 0.53670444581226\n"
     ]
    },
    {
     "name": "stderr",
     "output_type": "stream",
     "text": [
      "                                                                                \r"
     ]
    },
    {
     "name": "stdout",
     "output_type": "stream",
     "text": [
      "Time Slot 5: K = 15 and the silhouette = 0.548507200469485\n"
     ]
    },
    {
     "name": "stderr",
     "output_type": "stream",
     "text": [
      "                                                                                \r"
     ]
    },
    {
     "name": "stdout",
     "output_type": "stream",
     "text": [
      "Time Slot 5: K = 16 and the silhouette = 0.5262806560757056\n"
     ]
    },
    {
     "name": "stderr",
     "output_type": "stream",
     "text": [
      "                                                                                \r"
     ]
    },
    {
     "name": "stdout",
     "output_type": "stream",
     "text": [
      "Time Slot 5: K = 17 and the silhouette = 0.5237442823800753\n"
     ]
    },
    {
     "name": "stderr",
     "output_type": "stream",
     "text": [
      "                                                                                \r"
     ]
    },
    {
     "name": "stdout",
     "output_type": "stream",
     "text": [
      "Time Slot 5: K = 18 and the silhouette = 0.5450818774616848\n"
     ]
    },
    {
     "name": "stderr",
     "output_type": "stream",
     "text": [
      "                                                                                \r"
     ]
    },
    {
     "name": "stdout",
     "output_type": "stream",
     "text": [
      "Time Slot 5: K = 19 and the silhouette = 0.500554076690223\n"
     ]
    },
    {
     "name": "stderr",
     "output_type": "stream",
     "text": [
      "                                                                                \r"
     ]
    },
    {
     "name": "stdout",
     "output_type": "stream",
     "text": [
      "Time Slot 5: K = 20 and the silhouette = 0.5088302856045468\n",
      "*** The Best K is 15 for Time Slot 5 ***\n",
      "*** Cluster 0 Statistics for Time SLot 5 Calculated***\n",
      "*** Cluster 1 Statistics for Time SLot 5 Calculated***\n",
      "*** Cluster 2 Statistics for Time SLot 5 Calculated***\n",
      "*** Cluster 3 Statistics for Time SLot 5 Calculated***\n",
      "*** Cluster 4 Statistics for Time SLot 5 Calculated***\n",
      "*** Cluster 5 Statistics for Time SLot 5 Calculated***\n",
      "*** Cluster 6 Statistics for Time SLot 5 Calculated***\n",
      "*** Cluster 7 Statistics for Time SLot 5 Calculated***\n",
      "*** Cluster 8 Statistics for Time SLot 5 Calculated***\n",
      "*** Cluster 9 Statistics for Time SLot 5 Calculated***\n",
      "*** Cluster 10 Statistics for Time SLot 5 Calculated***\n",
      "*** Cluster 11 Statistics for Time SLot 5 Calculated***\n",
      "*** Cluster 12 Statistics for Time SLot 5 Calculated***\n",
      "*** Cluster 13 Statistics for Time SLot 5 Calculated***\n",
      "*** Cluster 14 Statistics for Time SLot 5 Calculated***\n"
     ]
    },
    {
     "name": "stderr",
     "output_type": "stream",
     "text": [
      "                                                                                \r"
     ]
    },
    {
     "name": "stdout",
     "output_type": "stream",
     "text": [
      "Time Slot 6: K = 7 and the silhouette = 0.477386755633965\n",
      "Time Slot 6: K = 8 and the silhouette = 0.4890355913946751\n"
     ]
    },
    {
     "name": "stderr",
     "output_type": "stream",
     "text": [
      "                                                                                \r"
     ]
    },
    {
     "name": "stdout",
     "output_type": "stream",
     "text": [
      "Time Slot 6: K = 9 and the silhouette = 0.48890174471705766\n",
      "Time Slot 6: K = 10 and the silhouette = 0.4909442705488521\n"
     ]
    },
    {
     "name": "stderr",
     "output_type": "stream",
     "text": [
      "                                                                                \r"
     ]
    },
    {
     "name": "stdout",
     "output_type": "stream",
     "text": [
      "Time Slot 6: K = 11 and the silhouette = 0.5138980613928285\n"
     ]
    },
    {
     "name": "stderr",
     "output_type": "stream",
     "text": [
      "                                                                                \r"
     ]
    },
    {
     "name": "stdout",
     "output_type": "stream",
     "text": [
      "Time Slot 6: K = 12 and the silhouette = 0.4766360853625308\n"
     ]
    },
    {
     "name": "stderr",
     "output_type": "stream",
     "text": [
      "                                                                                \r"
     ]
    },
    {
     "name": "stdout",
     "output_type": "stream",
     "text": [
      "Time Slot 6: K = 13 and the silhouette = 0.5201557351731866\n"
     ]
    },
    {
     "name": "stderr",
     "output_type": "stream",
     "text": [
      "                                                                                \r"
     ]
    },
    {
     "name": "stdout",
     "output_type": "stream",
     "text": [
      "Time Slot 6: K = 14 and the silhouette = 0.5108825461298754\n"
     ]
    },
    {
     "name": "stderr",
     "output_type": "stream",
     "text": [
      "                                                                                \r"
     ]
    },
    {
     "name": "stdout",
     "output_type": "stream",
     "text": [
      "Time Slot 6: K = 15 and the silhouette = 0.5135109957356265\n"
     ]
    },
    {
     "name": "stderr",
     "output_type": "stream",
     "text": [
      "                                                                                \r"
     ]
    },
    {
     "name": "stdout",
     "output_type": "stream",
     "text": [
      "Time Slot 6: K = 16 and the silhouette = 0.4634344247810479\n"
     ]
    },
    {
     "name": "stderr",
     "output_type": "stream",
     "text": [
      "                                                                                \r"
     ]
    },
    {
     "name": "stdout",
     "output_type": "stream",
     "text": [
      "Time Slot 6: K = 17 and the silhouette = 0.5113870824675016\n"
     ]
    },
    {
     "name": "stderr",
     "output_type": "stream",
     "text": [
      "                                                                                \r"
     ]
    },
    {
     "name": "stdout",
     "output_type": "stream",
     "text": [
      "Time Slot 6: K = 18 and the silhouette = 0.5410512332950665\n"
     ]
    },
    {
     "name": "stderr",
     "output_type": "stream",
     "text": [
      "                                                                                \r"
     ]
    },
    {
     "name": "stdout",
     "output_type": "stream",
     "text": [
      "Time Slot 6: K = 19 and the silhouette = 0.533539146449439\n"
     ]
    },
    {
     "name": "stderr",
     "output_type": "stream",
     "text": [
      "                                                                                \r"
     ]
    },
    {
     "name": "stdout",
     "output_type": "stream",
     "text": [
      "Time Slot 6: K = 20 and the silhouette = 0.5290699895248147\n",
      "*** The Best K is 18 for Time Slot 6 ***\n",
      "*** Cluster 0 Statistics for Time SLot 6 Calculated***\n",
      "*** Cluster 1 Statistics for Time SLot 6 Calculated***\n",
      "*** Cluster 2 Statistics for Time SLot 6 Calculated***\n",
      "*** Cluster 3 Statistics for Time SLot 6 Calculated***\n",
      "*** Cluster 4 Statistics for Time SLot 6 Calculated***\n",
      "*** Cluster 5 Statistics for Time SLot 6 Calculated***\n",
      "*** Cluster 6 Statistics for Time SLot 6 Calculated***\n",
      "*** Cluster 7 Statistics for Time SLot 6 Calculated***\n",
      "*** Cluster 8 Statistics for Time SLot 6 Calculated***\n",
      "*** Cluster 9 Statistics for Time SLot 6 Calculated***\n",
      "*** Cluster 10 Statistics for Time SLot 6 Calculated***\n",
      "*** Cluster 11 Statistics for Time SLot 6 Calculated***\n",
      "*** Cluster 12 Statistics for Time SLot 6 Calculated***\n",
      "*** Cluster 13 Statistics for Time SLot 6 Calculated***\n",
      "*** Cluster 14 Statistics for Time SLot 6 Calculated***\n",
      "*** Cluster 15 Statistics for Time SLot 6 Calculated***\n",
      "*** Cluster 16 Statistics for Time SLot 6 Calculated***\n",
      "*** Cluster 17 Statistics for Time SLot 6 Calculated***\n"
     ]
    },
    {
     "name": "stderr",
     "output_type": "stream",
     "text": [
      "                                                                                \r"
     ]
    },
    {
     "name": "stdout",
     "output_type": "stream",
     "text": [
      "Time Slot 7: K = 7 and the silhouette = 0.5059157700124721\n",
      "Time Slot 7: K = 8 and the silhouette = 0.510849975532739\n",
      "Time Slot 7: K = 9 and the silhouette = 0.5400921205003731\n",
      "Time Slot 7: K = 10 and the silhouette = 0.5144953071886136\n",
      "Time Slot 7: K = 11 and the silhouette = 0.5476723049545933\n"
     ]
    },
    {
     "name": "stderr",
     "output_type": "stream",
     "text": [
      "                                                                                \r"
     ]
    },
    {
     "name": "stdout",
     "output_type": "stream",
     "text": [
      "Time Slot 7: K = 12 and the silhouette = 0.5104262813583808\n"
     ]
    },
    {
     "name": "stderr",
     "output_type": "stream",
     "text": [
      "                                                                                \r"
     ]
    },
    {
     "name": "stdout",
     "output_type": "stream",
     "text": [
      "Time Slot 7: K = 13 and the silhouette = 0.5548118703987903\n"
     ]
    },
    {
     "name": "stderr",
     "output_type": "stream",
     "text": [
      "                                                                                \r"
     ]
    },
    {
     "name": "stdout",
     "output_type": "stream",
     "text": [
      "Time Slot 7: K = 14 and the silhouette = 0.5090025703633916\n"
     ]
    },
    {
     "name": "stderr",
     "output_type": "stream",
     "text": [
      "                                                                                \r"
     ]
    },
    {
     "name": "stdout",
     "output_type": "stream",
     "text": [
      "Time Slot 7: K = 15 and the silhouette = 0.4983531890550443\n"
     ]
    },
    {
     "name": "stderr",
     "output_type": "stream",
     "text": [
      "                                                                                \r"
     ]
    },
    {
     "name": "stdout",
     "output_type": "stream",
     "text": [
      "Time Slot 7: K = 16 and the silhouette = 0.5007295095508436\n"
     ]
    },
    {
     "name": "stderr",
     "output_type": "stream",
     "text": [
      "                                                                                \r"
     ]
    },
    {
     "name": "stdout",
     "output_type": "stream",
     "text": [
      "Time Slot 7: K = 17 and the silhouette = 0.49071989928884385\n"
     ]
    },
    {
     "name": "stderr",
     "output_type": "stream",
     "text": [
      "                                                                                \r"
     ]
    },
    {
     "name": "stdout",
     "output_type": "stream",
     "text": [
      "Time Slot 7: K = 18 and the silhouette = 0.5513090656517879\n"
     ]
    },
    {
     "name": "stderr",
     "output_type": "stream",
     "text": [
      "                                                                                \r"
     ]
    },
    {
     "name": "stdout",
     "output_type": "stream",
     "text": [
      "Time Slot 7: K = 19 and the silhouette = 0.5305841830596796\n"
     ]
    },
    {
     "name": "stderr",
     "output_type": "stream",
     "text": [
      "                                                                                \r"
     ]
    },
    {
     "name": "stdout",
     "output_type": "stream",
     "text": [
      "Time Slot 7: K = 20 and the silhouette = 0.5357247398458936\n",
      "*** The Best K is 13 for Time Slot 7 ***\n",
      "*** Cluster 0 Statistics for Time SLot 7 Calculated***\n",
      "*** Cluster 1 Statistics for Time SLot 7 Calculated***\n",
      "*** Cluster 2 Statistics for Time SLot 7 Calculated***\n",
      "*** Cluster 3 Statistics for Time SLot 7 Calculated***\n",
      "*** Cluster 4 Statistics for Time SLot 7 Calculated***\n",
      "*** Cluster 5 Statistics for Time SLot 7 Calculated***\n",
      "*** Cluster 6 Statistics for Time SLot 7 Calculated***\n",
      "*** Cluster 7 Statistics for Time SLot 7 Calculated***\n",
      "*** Cluster 8 Statistics for Time SLot 7 Calculated***\n",
      "*** Cluster 9 Statistics for Time SLot 7 Calculated***\n",
      "*** Cluster 10 Statistics for Time SLot 7 Calculated***\n",
      "*** Cluster 11 Statistics for Time SLot 7 Calculated***\n",
      "*** Cluster 12 Statistics for Time SLot 7 Calculated***\n"
     ]
    },
    {
     "name": "stderr",
     "output_type": "stream",
     "text": [
      "                                                                                \r"
     ]
    },
    {
     "name": "stdout",
     "output_type": "stream",
     "text": [
      "Time Slot 8: K = 7 and the silhouette = 0.5397024913413905\n",
      "Time Slot 8: K = 8 and the silhouette = 0.5116283076152962\n",
      "Time Slot 8: K = 9 and the silhouette = 0.503297910735147\n",
      "Time Slot 8: K = 10 and the silhouette = 0.5145038069502511\n"
     ]
    },
    {
     "name": "stderr",
     "output_type": "stream",
     "text": [
      "                                                                                \r"
     ]
    },
    {
     "name": "stdout",
     "output_type": "stream",
     "text": [
      "Time Slot 8: K = 11 and the silhouette = 0.5455696857619088\n",
      "Time Slot 8: K = 12 and the silhouette = 0.5498117967353798\n"
     ]
    },
    {
     "name": "stderr",
     "output_type": "stream",
     "text": [
      "                                                                                \r"
     ]
    },
    {
     "name": "stdout",
     "output_type": "stream",
     "text": [
      "Time Slot 8: K = 13 and the silhouette = 0.544040935715562\n"
     ]
    },
    {
     "name": "stderr",
     "output_type": "stream",
     "text": [
      "                                                                                \r"
     ]
    },
    {
     "name": "stdout",
     "output_type": "stream",
     "text": [
      "Time Slot 8: K = 14 and the silhouette = 0.5395134631894988\n"
     ]
    },
    {
     "name": "stderr",
     "output_type": "stream",
     "text": [
      "                                                                                \r"
     ]
    },
    {
     "name": "stdout",
     "output_type": "stream",
     "text": [
      "Time Slot 8: K = 15 and the silhouette = 0.5572928563940035\n"
     ]
    },
    {
     "name": "stderr",
     "output_type": "stream",
     "text": [
      "                                                                                \r"
     ]
    },
    {
     "name": "stdout",
     "output_type": "stream",
     "text": [
      "Time Slot 8: K = 16 and the silhouette = 0.5819751476462426\n"
     ]
    },
    {
     "name": "stderr",
     "output_type": "stream",
     "text": [
      "                                                                                \r"
     ]
    },
    {
     "name": "stdout",
     "output_type": "stream",
     "text": [
      "Time Slot 8: K = 17 and the silhouette = 0.5761055925972453\n"
     ]
    },
    {
     "name": "stderr",
     "output_type": "stream",
     "text": [
      "                                                                                \r"
     ]
    },
    {
     "name": "stdout",
     "output_type": "stream",
     "text": [
      "Time Slot 8: K = 18 and the silhouette = 0.5315431282958824\n"
     ]
    },
    {
     "name": "stderr",
     "output_type": "stream",
     "text": [
      "                                                                                \r"
     ]
    },
    {
     "name": "stdout",
     "output_type": "stream",
     "text": [
      "Time Slot 8: K = 19 and the silhouette = 0.5376326992264806\n"
     ]
    },
    {
     "name": "stderr",
     "output_type": "stream",
     "text": [
      "                                                                                \r"
     ]
    },
    {
     "name": "stdout",
     "output_type": "stream",
     "text": [
      "Time Slot 8: K = 20 and the silhouette = 0.5696533692268588\n",
      "*** The Best K is 16 for Time Slot 8 ***\n",
      "*** Cluster 0 Statistics for Time SLot 8 Calculated***\n",
      "*** Cluster 1 Statistics for Time SLot 8 Calculated***\n",
      "*** Cluster 2 Statistics for Time SLot 8 Calculated***\n",
      "*** Cluster 3 Statistics for Time SLot 8 Calculated***\n",
      "*** Cluster 4 Statistics for Time SLot 8 Calculated***\n",
      "*** Cluster 5 Statistics for Time SLot 8 Calculated***\n",
      "*** Cluster 6 Statistics for Time SLot 8 Calculated***\n",
      "*** Cluster 7 Statistics for Time SLot 8 Calculated***\n",
      "*** Cluster 8 Statistics for Time SLot 8 Calculated***\n",
      "*** Cluster 9 Statistics for Time SLot 8 Calculated***\n",
      "*** Cluster 10 Statistics for Time SLot 8 Calculated***\n",
      "*** Cluster 11 Statistics for Time SLot 8 Calculated***\n",
      "*** Cluster 12 Statistics for Time SLot 8 Calculated***\n",
      "*** Cluster 13 Statistics for Time SLot 8 Calculated***\n",
      "*** Cluster 14 Statistics for Time SLot 8 Calculated***\n",
      "*** Cluster 15 Statistics for Time SLot 8 Calculated***\n"
     ]
    },
    {
     "name": "stderr",
     "output_type": "stream",
     "text": [
      "                                                                                \r"
     ]
    },
    {
     "name": "stdout",
     "output_type": "stream",
     "text": [
      "Time Slot 9: K = 7 and the silhouette = 0.5436678101282212\n"
     ]
    },
    {
     "name": "stderr",
     "output_type": "stream",
     "text": [
      "                                                                                \r"
     ]
    },
    {
     "name": "stdout",
     "output_type": "stream",
     "text": [
      "Time Slot 9: K = 8 and the silhouette = 0.5269608811500314\n"
     ]
    },
    {
     "name": "stderr",
     "output_type": "stream",
     "text": [
      "                                                                                \r"
     ]
    },
    {
     "name": "stdout",
     "output_type": "stream",
     "text": [
      "Time Slot 9: K = 9 and the silhouette = 0.5283811693214089\n"
     ]
    },
    {
     "name": "stderr",
     "output_type": "stream",
     "text": [
      "                                                                                \r"
     ]
    },
    {
     "name": "stdout",
     "output_type": "stream",
     "text": [
      "Time Slot 9: K = 10 and the silhouette = 0.5548195613783098\n"
     ]
    },
    {
     "name": "stderr",
     "output_type": "stream",
     "text": [
      "                                                                                \r"
     ]
    },
    {
     "name": "stdout",
     "output_type": "stream",
     "text": [
      "Time Slot 9: K = 11 and the silhouette = 0.5271976382518486\n"
     ]
    },
    {
     "name": "stderr",
     "output_type": "stream",
     "text": [
      "                                                                                \r"
     ]
    },
    {
     "name": "stdout",
     "output_type": "stream",
     "text": [
      "Time Slot 9: K = 12 and the silhouette = 0.5662382166337983\n"
     ]
    },
    {
     "name": "stderr",
     "output_type": "stream",
     "text": [
      "                                                                                \r"
     ]
    },
    {
     "name": "stdout",
     "output_type": "stream",
     "text": [
      "Time Slot 9: K = 13 and the silhouette = 0.563294654552742\n"
     ]
    },
    {
     "name": "stderr",
     "output_type": "stream",
     "text": [
      "                                                                                \r"
     ]
    },
    {
     "name": "stdout",
     "output_type": "stream",
     "text": [
      "Time Slot 9: K = 14 and the silhouette = 0.5136393128122027\n"
     ]
    },
    {
     "name": "stderr",
     "output_type": "stream",
     "text": [
      "                                                                                \r"
     ]
    },
    {
     "name": "stdout",
     "output_type": "stream",
     "text": [
      "Time Slot 9: K = 15 and the silhouette = 0.5251824984773538\n"
     ]
    },
    {
     "name": "stderr",
     "output_type": "stream",
     "text": [
      "                                                                                \r"
     ]
    },
    {
     "name": "stdout",
     "output_type": "stream",
     "text": [
      "Time Slot 9: K = 16 and the silhouette = 0.5571557914337684\n"
     ]
    },
    {
     "name": "stderr",
     "output_type": "stream",
     "text": [
      "                                                                                \r"
     ]
    },
    {
     "name": "stdout",
     "output_type": "stream",
     "text": [
      "Time Slot 9: K = 17 and the silhouette = 0.5032653417088502\n"
     ]
    },
    {
     "name": "stderr",
     "output_type": "stream",
     "text": [
      "                                                                                \r"
     ]
    },
    {
     "name": "stdout",
     "output_type": "stream",
     "text": [
      "Time Slot 9: K = 18 and the silhouette = 0.5511905314802008\n"
     ]
    },
    {
     "name": "stderr",
     "output_type": "stream",
     "text": [
      "                                                                                \r"
     ]
    },
    {
     "name": "stdout",
     "output_type": "stream",
     "text": [
      "Time Slot 9: K = 19 and the silhouette = 0.5223305192006455\n"
     ]
    },
    {
     "name": "stderr",
     "output_type": "stream",
     "text": [
      "                                                                                \r"
     ]
    },
    {
     "name": "stdout",
     "output_type": "stream",
     "text": [
      "Time Slot 9: K = 20 and the silhouette = 0.5139902184315611\n",
      "*** The Best K is 12 for Time Slot 9 ***\n",
      "*** Cluster 0 Statistics for Time SLot 9 Calculated***\n",
      "*** Cluster 1 Statistics for Time SLot 9 Calculated***\n",
      "*** Cluster 2 Statistics for Time SLot 9 Calculated***\n",
      "*** Cluster 3 Statistics for Time SLot 9 Calculated***\n",
      "*** Cluster 4 Statistics for Time SLot 9 Calculated***\n",
      "*** Cluster 5 Statistics for Time SLot 9 Calculated***\n",
      "*** Cluster 6 Statistics for Time SLot 9 Calculated***\n",
      "*** Cluster 7 Statistics for Time SLot 9 Calculated***\n",
      "*** Cluster 8 Statistics for Time SLot 9 Calculated***\n",
      "*** Cluster 9 Statistics for Time SLot 9 Calculated***\n",
      "*** Cluster 10 Statistics for Time SLot 9 Calculated***\n",
      "*** Cluster 11 Statistics for Time SLot 9 Calculated***\n"
     ]
    },
    {
     "name": "stderr",
     "output_type": "stream",
     "text": [
      "                                                                                \r"
     ]
    },
    {
     "name": "stdout",
     "output_type": "stream",
     "text": [
      "Time Slot 10: K = 7 and the silhouette = 0.5108102421685868\n"
     ]
    },
    {
     "name": "stderr",
     "output_type": "stream",
     "text": [
      "                                                                                \r"
     ]
    },
    {
     "name": "stdout",
     "output_type": "stream",
     "text": [
      "Time Slot 10: K = 8 and the silhouette = 0.5145770803655304\n"
     ]
    },
    {
     "name": "stderr",
     "output_type": "stream",
     "text": [
      "                                                                                \r"
     ]
    },
    {
     "name": "stdout",
     "output_type": "stream",
     "text": [
      "Time Slot 10: K = 9 and the silhouette = 0.531620868790183\n"
     ]
    },
    {
     "name": "stderr",
     "output_type": "stream",
     "text": [
      "                                                                                \r"
     ]
    },
    {
     "name": "stdout",
     "output_type": "stream",
     "text": [
      "Time Slot 10: K = 10 and the silhouette = 0.4659890693770833\n"
     ]
    },
    {
     "name": "stderr",
     "output_type": "stream",
     "text": [
      "                                                                                \r"
     ]
    },
    {
     "name": "stdout",
     "output_type": "stream",
     "text": [
      "Time Slot 10: K = 11 and the silhouette = 0.5336859659504211\n"
     ]
    },
    {
     "name": "stderr",
     "output_type": "stream",
     "text": [
      "                                                                                \r"
     ]
    },
    {
     "name": "stdout",
     "output_type": "stream",
     "text": [
      "Time Slot 10: K = 12 and the silhouette = 0.5093551248049383\n"
     ]
    },
    {
     "name": "stderr",
     "output_type": "stream",
     "text": [
      "                                                                                \r"
     ]
    },
    {
     "name": "stdout",
     "output_type": "stream",
     "text": [
      "Time Slot 10: K = 13 and the silhouette = 0.5674756282787476\n"
     ]
    },
    {
     "name": "stderr",
     "output_type": "stream",
     "text": [
      "                                                                                \r"
     ]
    },
    {
     "name": "stdout",
     "output_type": "stream",
     "text": [
      "Time Slot 10: K = 14 and the silhouette = 0.5667154684166685\n"
     ]
    },
    {
     "name": "stderr",
     "output_type": "stream",
     "text": [
      "                                                                                \r"
     ]
    },
    {
     "name": "stdout",
     "output_type": "stream",
     "text": [
      "Time Slot 10: K = 15 and the silhouette = 0.5602688898906426\n"
     ]
    },
    {
     "name": "stderr",
     "output_type": "stream",
     "text": [
      "                                                                                \r"
     ]
    },
    {
     "name": "stdout",
     "output_type": "stream",
     "text": [
      "Time Slot 10: K = 16 and the silhouette = 0.5485680794773596\n"
     ]
    },
    {
     "name": "stderr",
     "output_type": "stream",
     "text": [
      "                                                                                \r"
     ]
    },
    {
     "name": "stdout",
     "output_type": "stream",
     "text": [
      "Time Slot 10: K = 17 and the silhouette = 0.5346823112259284\n"
     ]
    },
    {
     "name": "stderr",
     "output_type": "stream",
     "text": [
      "                                                                                \r"
     ]
    },
    {
     "name": "stdout",
     "output_type": "stream",
     "text": [
      "Time Slot 10: K = 18 and the silhouette = 0.5260049747668533\n"
     ]
    },
    {
     "name": "stderr",
     "output_type": "stream",
     "text": [
      "                                                                                \r"
     ]
    },
    {
     "name": "stdout",
     "output_type": "stream",
     "text": [
      "Time Slot 10: K = 19 and the silhouette = 0.5262185452592192\n"
     ]
    },
    {
     "name": "stderr",
     "output_type": "stream",
     "text": [
      "                                                                                \r"
     ]
    },
    {
     "name": "stdout",
     "output_type": "stream",
     "text": [
      "Time Slot 10: K = 20 and the silhouette = 0.5493489530826935\n",
      "*** The Best K is 13 for Time Slot 10 ***\n",
      "*** Cluster 0 Statistics for Time SLot 10 Calculated***\n",
      "*** Cluster 1 Statistics for Time SLot 10 Calculated***\n",
      "*** Cluster 2 Statistics for Time SLot 10 Calculated***\n",
      "*** Cluster 3 Statistics for Time SLot 10 Calculated***\n",
      "*** Cluster 4 Statistics for Time SLot 10 Calculated***\n",
      "*** Cluster 5 Statistics for Time SLot 10 Calculated***\n",
      "*** Cluster 6 Statistics for Time SLot 10 Calculated***\n",
      "*** Cluster 7 Statistics for Time SLot 10 Calculated***\n",
      "*** Cluster 8 Statistics for Time SLot 10 Calculated***\n",
      "*** Cluster 9 Statistics for Time SLot 10 Calculated***\n",
      "*** Cluster 10 Statistics for Time SLot 10 Calculated***\n",
      "*** Cluster 11 Statistics for Time SLot 10 Calculated***\n",
      "*** Cluster 12 Statistics for Time SLot 10 Calculated***\n"
     ]
    },
    {
     "name": "stderr",
     "output_type": "stream",
     "text": [
      "                                                                                \r"
     ]
    },
    {
     "name": "stdout",
     "output_type": "stream",
     "text": [
      "Time Slot 11: K = 7 and the silhouette = 0.631669971937867\n"
     ]
    },
    {
     "name": "stderr",
     "output_type": "stream",
     "text": [
      "                                                                                \r"
     ]
    },
    {
     "name": "stdout",
     "output_type": "stream",
     "text": [
      "Time Slot 11: K = 8 and the silhouette = 0.5254296085532992\n"
     ]
    },
    {
     "name": "stderr",
     "output_type": "stream",
     "text": [
      "                                                                                \r"
     ]
    },
    {
     "name": "stdout",
     "output_type": "stream",
     "text": [
      "Time Slot 11: K = 9 and the silhouette = 0.5253696632083618\n"
     ]
    },
    {
     "name": "stderr",
     "output_type": "stream",
     "text": [
      "                                                                                \r"
     ]
    },
    {
     "name": "stdout",
     "output_type": "stream",
     "text": [
      "Time Slot 11: K = 10 and the silhouette = 0.5126715733617844\n"
     ]
    },
    {
     "name": "stderr",
     "output_type": "stream",
     "text": [
      "                                                                                \r"
     ]
    },
    {
     "name": "stdout",
     "output_type": "stream",
     "text": [
      "Time Slot 11: K = 11 and the silhouette = 0.5399413964398206\n"
     ]
    },
    {
     "name": "stderr",
     "output_type": "stream",
     "text": [
      "                                                                                \r"
     ]
    },
    {
     "name": "stdout",
     "output_type": "stream",
     "text": [
      "Time Slot 11: K = 12 and the silhouette = 0.5464488046304259\n"
     ]
    },
    {
     "name": "stderr",
     "output_type": "stream",
     "text": [
      "                                                                                \r"
     ]
    },
    {
     "name": "stdout",
     "output_type": "stream",
     "text": [
      "Time Slot 11: K = 13 and the silhouette = 0.591127037495448\n"
     ]
    },
    {
     "name": "stderr",
     "output_type": "stream",
     "text": [
      "                                                                                \r"
     ]
    },
    {
     "name": "stdout",
     "output_type": "stream",
     "text": [
      "Time Slot 11: K = 14 and the silhouette = 0.5876881869333745\n"
     ]
    },
    {
     "name": "stderr",
     "output_type": "stream",
     "text": [
      "                                                                                \r"
     ]
    },
    {
     "name": "stdout",
     "output_type": "stream",
     "text": [
      "Time Slot 11: K = 15 and the silhouette = 0.5838951473037953\n"
     ]
    },
    {
     "name": "stderr",
     "output_type": "stream",
     "text": [
      "                                                                                \r"
     ]
    },
    {
     "name": "stdout",
     "output_type": "stream",
     "text": [
      "Time Slot 11: K = 16 and the silhouette = 0.598704101222019\n"
     ]
    },
    {
     "name": "stderr",
     "output_type": "stream",
     "text": [
      "                                                                                \r"
     ]
    },
    {
     "name": "stdout",
     "output_type": "stream",
     "text": [
      "Time Slot 11: K = 17 and the silhouette = 0.5910380466666328\n"
     ]
    },
    {
     "name": "stderr",
     "output_type": "stream",
     "text": [
      "                                                                                \r"
     ]
    },
    {
     "name": "stdout",
     "output_type": "stream",
     "text": [
      "Time Slot 11: K = 18 and the silhouette = 0.5467681649939939\n"
     ]
    },
    {
     "name": "stderr",
     "output_type": "stream",
     "text": [
      "                                                                                \r"
     ]
    },
    {
     "name": "stdout",
     "output_type": "stream",
     "text": [
      "Time Slot 11: K = 19 and the silhouette = 0.5559045746467173\n"
     ]
    },
    {
     "name": "stderr",
     "output_type": "stream",
     "text": [
      "                                                                                \r"
     ]
    },
    {
     "name": "stdout",
     "output_type": "stream",
     "text": [
      "Time Slot 11: K = 20 and the silhouette = 0.5716273186099744\n",
      "*** The Best K is 7 for Time Slot 11 ***\n",
      "*** Cluster 0 Statistics for Time SLot 11 Calculated***\n",
      "*** Cluster 1 Statistics for Time SLot 11 Calculated***\n",
      "*** Cluster 2 Statistics for Time SLot 11 Calculated***\n",
      "*** Cluster 3 Statistics for Time SLot 11 Calculated***\n",
      "*** Cluster 4 Statistics for Time SLot 11 Calculated***\n",
      "*** Cluster 5 Statistics for Time SLot 11 Calculated***\n",
      "*** Cluster 6 Statistics for Time SLot 11 Calculated***\n",
      "*** Cluster Statistics for Time Slot Calculated ***\n",
      "+---------+------+\n",
      "|Time_slot|Best_K|\n",
      "+---------+------+\n",
      "|        0|    13|\n",
      "|        1|    18|\n",
      "|        2|    17|\n",
      "|        3|    19|\n",
      "|        4|    20|\n",
      "|        5|    15|\n",
      "|        6|    18|\n",
      "|        7|    13|\n",
      "|        8|    16|\n",
      "|        9|    12|\n",
      "|       10|    13|\n",
      "|       11|     7|\n",
      "+---------+------+\n",
      "\n",
      "+---------+--------------+------------------+------------------+-------------------+-------------------------------+-------------------------+-------------------+\n",
      "|Time_slot|Cluster number| Centroid Latitude|Centroid Longitude|      Order density|Average unit price per customer|Average Tips per customer| Percentage of tips|\n",
      "+---------+--------------+------------------+------------------+-------------------+-------------------------------+-------------------------+-------------------+\n",
      "|        0|             0| 40.74462435160438|-73.98612384138191|  22.03472222222222|             11.330355688622754|       1.2744831389851896|0.10184788848298101|\n",
      "|        0|             1| 40.64666793268913|-73.78398780242962|  2.515277777777778|             44.004998343456656|        4.832184980673661|0.09501214758590544|\n",
      "|        0|             2| 40.81058045346052|-73.95177151792326|             3.1975|             13.230431760924333|       1.1810876552862475|0.07624586311230577|\n",
      "|        0|             3| 40.76781189841654|-73.86922943116433|  2.640277777777778|             25.835632298790113|       3.1299410836401886|0.10078007886671773|\n",
      "|        0|             4|40.681184586790124|-73.98195912617714|  4.409583333333333|             14.438213172068412|       1.5531188383886094|0.09597048764836184|\n",
      "|        0|             5| 40.71439345948535|-73.95371009988054|  6.520277777777777|              13.30415796873003|       1.5594977207855834|0.10562304803639404|\n",
      "|        0|             6| 40.76303339297546|-73.98672267990727| 21.587222222222223|              12.15344191522763|       1.2493503101114352|0.09339400865275117|\n",
      "|        0|             7|40.725729012980324|-73.98878080559963|  25.52722222222222|             12.100108761888182|       1.4355552351520182| 0.1090708811183888|\n",
      "|        0|             8| 40.75755266000797|-73.97089625263827|           15.40375|             11.217564806549632|        1.227170422065334| 0.0997906669851535|\n",
      "|        0|             9| 40.71679898479473|-74.00563665163985|           10.62875|             13.382145517268414|       1.5626832359820713|0.10839241259397277|\n",
      "|        0|            10| 40.77984010179408|-73.96124298037563| 10.975416666666666|             11.578881464889967|       1.1704621439327787|0.09126481802106039|\n",
      "|        0|            11| 40.75746055718399|  -73.923251327488| 2.1705555555555556|             13.371068594829792|       1.0607371384694138|0.06450852351705413|\n",
      "|        0|            12| 40.73844284991049|-74.00284408940642| 21.400833333333335|             11.864314733330737|        1.339223550484796|0.10254110989218536|\n",
      "|        1|             0| 40.75757677412591|-73.97022193760301|  6.157222222222222|             12.060283091220787|       1.1912938734999539|0.09449948202889231|\n",
      "|        1|             1| 40.81641402228014|-73.94584637046694| 1.1459722222222222|             13.187237910556295|       1.0977493637134894|0.07013310996421525|\n",
      "|        1|             2|  40.7218168353562| -74.0030825319484|  8.904166666666667|             13.243101700202775|       1.4433893308376229|0.10399957456725449|\n",
      "|        1|             3|40.649381577079104|-73.78278624915484|0.41083333333333333|              40.73394185260311|        3.697177146720756| 0.0767938662720482|\n",
      "|        1|             4| 40.75766369425888|-73.92235546046219| 1.5386111111111112|             12.957079797797435|       0.8266076909189386|0.05395039387840355|\n",
      "|        1|             5| 40.74381733878169|-73.98608241900988| 10.038194444444445|             12.036937530266345|       1.2449007263922514|0.09741903949070134|\n",
      "|        1|             6|40.716352184222096|-73.95601139962736|  4.102083333333334|             12.965210766886745|        1.488124936515997|0.10454478673342363|\n",
      "+---------+--------------+------------------+------------------+-------------------+-------------------------------+-------------------------+-------------------+\n",
      "only showing top 20 rows\n"
     ]
    }
   ],
   "source": [
    "# Add time_slot column\n",
    "df = df.withColumn(\"time_slot\", (hour(col(\"pickup_datetime\")) / 2).cast(IntegerType()))\n",
    "print(\"*** Time Slot Added ***\")\n",
    "\n",
    "# Prepare the features for KMeans\n",
    "vecAssembler = VectorAssembler(inputCols=[\"pickup_longitude\", \"pickup_latitude\"], outputCol=\"features\")\n",
    "\n",
    "# Evaluator for computing silhouette score\n",
    "evaluator = ClusteringEvaluator()\n",
    "\n",
    "# We will collect the best K and stats in this list\n",
    "best_ks = []\n",
    "cluster_stats = []\n",
    "\n",
    "evaluator = ClusteringEvaluator(predictionCol=\"cluster\", featuresCol=\"features\")\n",
    "\n",
    "# Loop through each time slot (12 in total)\n",
    "for time_slot in range(0, 12):\n",
    "    df_slot = df.filter(col(\"time_slot\") == time_slot)\n",
    "    df_slot = vecAssembler.transform(df_slot)\n",
    "    df_slot.cache()\n",
    "    silhouette_scores = []\n",
    "\n",
    "    # Apply KMeans for k from 7 to 20 and calculate silhouette scores\n",
    "    for k in range(7, 21):\n",
    "        kmeans = KMeans(k=k, seed=1, featuresCol=\"features\", predictionCol=\"cluster\")\n",
    "        model = kmeans.fit(df_slot)\n",
    "        predictions = model.transform(df_slot)\n",
    "\n",
    "        if \"cluster\" not in predictions.columns:\n",
    "            raise ValueError(\"The prediction column 'cluster' was not found in the predictions DataFrame.\")\n",
    "\n",
    "        silhouette = evaluator.evaluate(predictions)\n",
    "        silhouette_scores.append((k, silhouette))\n",
    "        print(f\"Time Slot {time_slot}: K = {k} and the silhouette = {silhouette}\")\n",
    "\n",
    "    # Find the best k with the highest silhouette score\n",
    "    best_k = max(silhouette_scores, key=lambda item: item[1])[0]\n",
    "    best_ks.append((time_slot, best_k))\n",
    "\n",
    "    print(f\"*** The Best K is {best_k} for Time Slot {time_slot} ***\")\n",
    "\n",
    "    # Reapply KMeans with the best k\n",
    "    best_kmeans = KMeans(k=best_k, seed=1, featuresCol=\"features\", predictionCol=\"cluster\")\n",
    "    best_model = best_kmeans.fit(df_slot)\n",
    "    best_predictions = best_model.transform(df_slot)\n",
    "\n",
    "    # Get centroids of Clusters\n",
    "    centroids = best_model.clusterCenters()\n",
    "\n",
    "    # Calculate statistics for each cluster\n",
    "    for cluster in range(best_k):\n",
    "        cluster_df = best_predictions.filter(col(\"cluster\") == cluster)\n",
    "\n",
    "        # Extract centroid coordinates for the current cluster\n",
    "        centroid_longitude, centroid_latitude = centroids[cluster]\n",
    "\n",
    "        order_density = cluster_df.count() / (2.0 * 60.0 * 60.0)\n",
    "\n",
    "        avg_unit_price = cluster_df.groupBy('cluster').avg('fare_amount').first()[1]\n",
    "\n",
    "        avg_tips = cluster_df.groupBy('cluster').avg('tip_amount').first()[1]\n",
    "\n",
    "        percentage_tips = cluster_df.withColumn('tip_percentage',\n",
    "                                                (col('tip_amount') / (\n",
    "                                                        col('total_amount') - col('tip_amount')))).groupBy(\n",
    "            'cluster').avg('tip_percentage').first()[1]\n",
    "\n",
    "        centroid_latitude = float(centroid_latitude)\n",
    "        centroid_longitude = float(centroid_longitude)\n",
    "\n",
    "        # Append stats to the list\n",
    "        cluster_stats.append((time_slot, cluster, centroid_latitude, centroid_longitude, order_density, avg_unit_price,\n",
    "                              avg_tips, percentage_tips))\n",
    "\n",
    "        print(f\"*** Cluster {cluster} Statistics for Time SLot {time_slot} Calculated***\")\n",
    "        # print(cluster_stats)\n",
    "\n",
    "    df_slot.unpersist()\n",
    "\n",
    "print(\"*** Cluster Statistics for Time Slot Calculated ***\")\n",
    "\n",
    "# Convert the best k's to a DataFrame\n",
    "best_ks_df = spark.createDataFrame(best_ks, schema=[\"Time_slot\", \"Best_K\"])\n",
    "\n",
    "# Convert the cluster stats to a DataFrame\n",
    "stats_schema = [\"Time_slot\", \"Cluster number\", \"Centroid Latitude\", \"Centroid Longitude\", \"Order density\",\n",
    "                \"Average unit price per customer\", \"Average Tips per customer\", \"Percentage of tips\"]\n",
    "\n",
    "stats_df = spark.createDataFrame(cluster_stats, schema=stats_schema)\n",
    "\n",
    "# Best k for each time slot\n",
    "best_ks_df.show()\n",
    "\n",
    "# Final result\n",
    "stats_df.show()\n"
   ],
   "metadata": {
    "collapsed": false,
    "ExecuteTime": {
     "end_time": "2024-04-25T20:37:09.547195Z",
     "start_time": "2024-04-25T20:14:40.894718Z"
    }
   },
   "id": "2001cf19fc01fc03",
   "execution_count": 5
  },
  {
   "cell_type": "markdown",
   "source": [
    "## Save Clusters"
   ],
   "metadata": {
    "collapsed": false
   },
   "id": "8889831f5d864ca4"
  },
  {
   "cell_type": "code",
   "outputs": [],
   "source": [
    "# Save the DataFrame as a single CSV file\n",
    "stats_df.coalesce(1).write.format(\"csv\").option(\"header\", \"true\").mode(\"overwrite\").save(\n",
    "    output_folder_path + \"/project-output.csv\")\n",
    "\n",
    "spark.stop()\n"
   ],
   "metadata": {
    "collapsed": false,
    "ExecuteTime": {
     "end_time": "2024-04-25T20:37:10.957923Z",
     "start_time": "2024-04-25T20:37:09.547967Z"
    }
   },
   "id": "4614df44bf5f23e7",
   "execution_count": 6
  }
 ],
 "metadata": {
  "kernelspec": {
   "display_name": "Python 3",
   "language": "python",
   "name": "python3"
  },
  "language_info": {
   "codemirror_mode": {
    "name": "ipython",
    "version": 2
   },
   "file_extension": ".py",
   "mimetype": "text/x-python",
   "name": "python",
   "nbconvert_exporter": "python",
   "pygments_lexer": "ipython2",
   "version": "2.7.6"
  }
 },
 "nbformat": 4,
 "nbformat_minor": 5
}
